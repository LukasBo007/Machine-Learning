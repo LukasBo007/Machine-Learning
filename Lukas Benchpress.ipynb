{
 "cells": [
  {
   "cell_type": "markdown",
   "metadata": {},
   "source": [
    "# Regressionsanalyse Powerlifting "
   ]
  },
  {
   "cell_type": "markdown",
   "metadata": {},
   "source": [
    "## Libraries"
   ]
  },
  {
   "cell_type": "code",
   "execution_count": 1,
   "metadata": {},
   "outputs": [],
   "source": [
    "import numpy as np\n",
    "import pandas as pd\n",
    "import seaborn as sns\n",
    "import matplotlib.pyplot as plt\n",
    "import tensorflow as tf"
   ]
  },
  {
   "cell_type": "markdown",
   "metadata": {},
   "source": [
    "## Data"
   ]
  },
  {
   "cell_type": "code",
   "execution_count": 2,
   "metadata": {},
   "outputs": [
    {
     "data": {
      "text/html": [
       "<div>\n",
       "<style scoped>\n",
       "    .dataframe tbody tr th:only-of-type {\n",
       "        vertical-align: middle;\n",
       "    }\n",
       "\n",
       "    .dataframe tbody tr th {\n",
       "        vertical-align: top;\n",
       "    }\n",
       "\n",
       "    .dataframe thead th {\n",
       "        text-align: right;\n",
       "    }\n",
       "</style>\n",
       "<table border=\"1\" class=\"dataframe\">\n",
       "  <thead>\n",
       "    <tr style=\"text-align: right;\">\n",
       "      <th></th>\n",
       "      <th>playerId</th>\n",
       "      <th>Name</th>\n",
       "      <th>Sex</th>\n",
       "      <th>Equipment</th>\n",
       "      <th>Age</th>\n",
       "      <th>BodyweightKg</th>\n",
       "      <th>BestSquatKg</th>\n",
       "      <th>BestDeadliftKg</th>\n",
       "    </tr>\n",
       "  </thead>\n",
       "  <tbody>\n",
       "    <tr>\n",
       "      <th>0</th>\n",
       "      <td>19391.0</td>\n",
       "      <td>Carlos Ceron</td>\n",
       "      <td>M</td>\n",
       "      <td>Raw</td>\n",
       "      <td>23.0</td>\n",
       "      <td>87.30</td>\n",
       "      <td>205.0</td>\n",
       "      <td>235.0</td>\n",
       "    </tr>\n",
       "    <tr>\n",
       "      <th>1</th>\n",
       "      <td>15978.0</td>\n",
       "      <td>Tito Herrera</td>\n",
       "      <td>M</td>\n",
       "      <td>Wraps</td>\n",
       "      <td>23.0</td>\n",
       "      <td>73.48</td>\n",
       "      <td>220.0</td>\n",
       "      <td>260.0</td>\n",
       "    </tr>\n",
       "    <tr>\n",
       "      <th>2</th>\n",
       "      <td>27209.0</td>\n",
       "      <td>Levi Lehman</td>\n",
       "      <td>M</td>\n",
       "      <td>Raw</td>\n",
       "      <td>26.0</td>\n",
       "      <td>112.40</td>\n",
       "      <td>142.5</td>\n",
       "      <td>220.0</td>\n",
       "    </tr>\n",
       "    <tr>\n",
       "      <th>3</th>\n",
       "      <td>27496.0</td>\n",
       "      <td>Stacy Hayford</td>\n",
       "      <td>F</td>\n",
       "      <td>Raw</td>\n",
       "      <td>35.0</td>\n",
       "      <td>59.42</td>\n",
       "      <td>95.0</td>\n",
       "      <td>102.5</td>\n",
       "    </tr>\n",
       "    <tr>\n",
       "      <th>4</th>\n",
       "      <td>20293.0</td>\n",
       "      <td>Brittany Hirt</td>\n",
       "      <td>F</td>\n",
       "      <td>Raw</td>\n",
       "      <td>26.5</td>\n",
       "      <td>61.40</td>\n",
       "      <td>105.0</td>\n",
       "      <td>127.5</td>\n",
       "    </tr>\n",
       "  </tbody>\n",
       "</table>\n",
       "</div>"
      ],
      "text/plain": [
       "   playerId           Name Sex Equipment   Age  BodyweightKg BestSquatKg  \\\n",
       "0   19391.0   Carlos Ceron   M       Raw  23.0         87.30       205.0   \n",
       "1   15978.0   Tito Herrera   M     Wraps  23.0         73.48       220.0   \n",
       "2   27209.0    Levi Lehman   M       Raw  26.0        112.40       142.5   \n",
       "3   27496.0  Stacy Hayford   F       Raw  35.0         59.42        95.0   \n",
       "4   20293.0  Brittany Hirt   F       Raw  26.5         61.40       105.0   \n",
       "\n",
       "   BestDeadliftKg  \n",
       "0           235.0  \n",
       "1           260.0  \n",
       "2           220.0  \n",
       "3           102.5  \n",
       "4           127.5  "
      ]
     },
     "execution_count": 2,
     "metadata": {},
     "output_type": "execute_result"
    }
   ],
   "source": [
    "rawdata = pd.read_csv(\"Data.csv\")\n",
    "rawdata.head()"
   ]
  },
  {
   "cell_type": "markdown",
   "metadata": {},
   "source": [
    "### Visualisierung der Daten"
   ]
  },
  {
   "cell_type": "code",
   "execution_count": 3,
   "metadata": {},
   "outputs": [
    {
     "name": "stdout",
     "output_type": "stream",
     "text": [
      "Anzahl der Einträge in Rawdata: 18900\n",
      "Kategorien in der Spalte von Eqipment: ['Raw' 'Wraps' 'Single-ply' 'Multi-ply']\n",
      "Kategorien in der Spalte von Eqipment: ['M' 'F']\n",
      "Altersspanne der Teilnehmer: 7.0 - 83.0\n",
      "Körpergewicht der Teilnehmer: 26.13 - 201.0\n"
     ]
    }
   ],
   "source": [
    "# Anzahl der Einträge ausgeben\n",
    "num_entries = rawdata.shape[0]\n",
    "print(\"Anzahl der Einträge in Rawdata:\", num_entries)\n",
    "\n",
    "# Eindeutige Kategorien ausgeben\n",
    "unique_categories = rawdata[\"Equipment\"].unique()\n",
    "print(\"Kategorien in der Spalte von Eqipment:\", unique_categories)  \n",
    "\n",
    "# Überprüfen ob Diverse Geschlechter inkludiert sind\n",
    "unique_categories = rawdata[\"Sex\"].unique()\n",
    "print(\"Kategorien in der Spalte von Eqipment:\", unique_categories)  \n",
    "\n",
    "# Altersspanne berechnen\n",
    "print(\"Altersspanne der Teilnehmer:\", rawdata[\"Age\"].min(), \"-\", rawdata[\"Age\"].max())\n",
    "\n",
    "# Altersspanne berechnen\n",
    "print(\"Körpergewicht der Teilnehmer:\", rawdata[\"BodyweightKg\"].min(), \"-\", rawdata[\"BodyweightKg\"].max())"
   ]
  },
  {
   "cell_type": "markdown",
   "metadata": {},
   "source": [
    "Erläuterung des Equipments:<br>\n",
    "__Raw__ = Powerlifter verwenden kein Equipment<br>__Wraps__ = Athleten verwenden spezielle Bandagen für zusätzliche Stabilität an Knie oder Handgelenken <br>__Single-ply__ = Athleten tragen vollständige Ausrüstung, jedoch ist jede Schicht auf eine begrenzt.<br>__Multi-ply__ = Athleten tragen vollständige Ausrüstung mit mehreren erlaubten Schichten für maximale Unterstützung.\n",
    "\n"
   ]
  },
  {
   "cell_type": "markdown",
   "metadata": {},
   "source": [
    "## Datenverarbeitung"
   ]
  },
  {
   "cell_type": "markdown",
   "metadata": {},
   "source": [
    "### Fehlende Werte"
   ]
  },
  {
   "cell_type": "code",
   "execution_count": 4,
   "metadata": {},
   "outputs": [
    {
     "name": "stdout",
     "output_type": "stream",
     "text": [
      "playerId            0\n",
      "Name                0\n",
      "Sex                 0\n",
      "Equipment           0\n",
      "Age               175\n",
      "BodyweightKg        0\n",
      "BestSquatKg         0\n",
      "BestDeadliftKg      0\n",
      "dtype: int64\n",
      "Anzahl der Einträge in Rawdata: 18900 \n",
      "\n",
      "playerId          0\n",
      "Name              0\n",
      "Sex               0\n",
      "Equipment         0\n",
      "Age               0\n",
      "BodyweightKg      0\n",
      "BestSquatKg       0\n",
      "BestDeadliftKg    0\n",
      "dtype: int64\n",
      "Anzahl der Einträge in Rawdata: 18725 \n",
      "\n"
     ]
    }
   ],
   "source": [
    "\n",
    "# Überprüfen auf fehlende Werte\n",
    "print(rawdata.isnull().sum())\n",
    "num_entries = rawdata.shape[0]\n",
    "print(\"Anzahl der Einträge in Rawdata:\", num_entries, \"\\n\")\n",
    "\n",
    "# Da weniger als 1% der Daten unvollstänidg sind = Zeilen löschen\n",
    "rawdata = rawdata.dropna(axis=0)\n",
    "\n",
    "# Wiederholtes Überprüfen auf fehlende Werte\n",
    "print(rawdata.isnull().sum())\n",
    "num_entries = rawdata.shape[0]\n",
    "print(\"Anzahl der Einträge in Rawdata:\", num_entries, \"\\n\")\n"
   ]
  },
  {
   "cell_type": "markdown",
   "metadata": {},
   "source": [
    "### Sonderfall BestSquatKg"
   ]
  },
  {
   "cell_type": "code",
   "execution_count": 5,
   "metadata": {},
   "outputs": [
    {
     "name": "stdout",
     "output_type": "stream",
     "text": [
      "       playerId BestSquatKg\n",
      "94      11462.0      102..5\n",
      "1614    21517.0      227..5\n",
      "1663    12116.0      133..0\n",
      "1720    28706.0      192..5\n",
      "1766    23256.0      105..0\n",
      "2590    12648.0      195..0\n",
      "2803    20917.0      237..5\n",
      "4213     1659.0      122..5\n",
      "9712    24353.0      295..0\n",
      "12138   17751.0      180..0\n",
      "12429   16459.0      205..0\n",
      "12445   14456.0      110..0\n",
      "12664   13558.0      220..0\n",
      "16998     545.0      145..0\n",
      "18527    5539.0      207..5 \n",
      "\n",
      "       playerId  BestSquatKg\n",
      "94      11462.0        102.5\n",
      "1614    21517.0        227.5\n",
      "1663    12116.0        133.0\n",
      "1720    28706.0        192.5\n",
      "1766    23256.0        105.0\n",
      "2590    12648.0        195.0\n",
      "2803    20917.0        237.5\n",
      "4213     1659.0        122.5\n",
      "9712    24353.0        295.0\n",
      "12138   17751.0        180.0\n",
      "12429   16459.0        205.0\n",
      "12445   14456.0        110.0\n",
      "12664   13558.0        220.0\n",
      "16998     545.0        145.0\n",
      "18527    5539.0        207.5 \n",
      "\n",
      "Anzahl der Zeilen mit negativen Werten in 'BestSquatKg': 82\n"
     ]
    }
   ],
   "source": [
    "\n",
    "#Identifizierung der Einträge mit nicht-numerischen Werten in \"BestSquatKg\"\n",
    "#coerce erläutern\n",
    "non_numeric_entries = pd.to_numeric(rawdata['BestSquatKg'], errors='coerce').isna()\n",
    "\n",
    "#Ausgabe der fehlerhaften Einträge\n",
    "print(rawdata[non_numeric_entries][['playerId', 'BestSquatKg']],\"\\n\")\n",
    "\n",
    "#Korrektur der fehlerhaften Einträge, indem der doppelte Punkt durch einen einzigen ersetzt wird\n",
    "rawdata['BestSquatKg'] = rawdata['BestSquatKg'].str.replace('..', '.', regex=False)\n",
    "\n",
    "#Konvertierung der korrigierten Spalte in einen numerischen Typ\n",
    "rawdata['BestSquatKg'] = pd.to_numeric(rawdata['BestSquatKg'])\n",
    "\n",
    "#Ausgabe der fehlerhaften Einträge\n",
    "print(rawdata[non_numeric_entries][['playerId', 'BestSquatKg']],\"\\n\")\n",
    "\n",
    "\n",
    "count_of_negative_rows = (rawdata['BestSquatKg'] < 0).sum()\n",
    "print(\"Anzahl der Zeilen mit negativen Werten in 'BestSquatKg':\", count_of_negative_rows)\n",
    "\n",
    "\n",
    "\n",
    "#Umwandlung negativer Werte in \"BestSquatKg\" in positive durch Anwendung des absoluten Wertes, da wir vermuten dass es sich hier um Vorzeichen fehler handelt\n",
    "#rawdata['BestSquatKg'] = rawdata['BestSquatKg'].abs()\n",
    "\n",
    "\n",
    "\n",
    "\n",
    "\n",
    "\n",
    "\n",
    "\n",
    "\n"
   ]
  },
  {
   "cell_type": "markdown",
   "metadata": {},
   "source": [
    "### Außreißer"
   ]
  },
  {
   "cell_type": "code",
   "execution_count": 6,
   "metadata": {},
   "outputs": [
    {
     "data": {
      "image/png": "[encoded data removed]",
      "text/plain": [
       "<Figure size 1500x500 with 3 Axes>"
      ]
     },
     "metadata": {},
     "output_type": "display_data"
    },
    {
     "data": {
      "text/plain": [
       "'\\nsns.set_style(\"whitegrid\")\\nsns.boxplot(data=rawdata[\\'Age\\'])\\n'"
      ]
     },
     "execution_count": 6,
     "metadata": {},
     "output_type": "execute_result"
    }
   ],
   "source": [
    "## Visualisieren der Ausreißer\n",
    "\n",
    "#Formatierung\n",
    "plt.figure(figsize=(15, 5))\n",
    "\n",
    "#Subplot = Alle\n",
    "plt.subplot(1, 3, 1)\n",
    "rawdata.boxplot(grid=False)\n",
    "plt.title('Alle')\n",
    "\n",
    "#Subplot = Personenbezogenen Daten\n",
    "plt.subplot(1, 3, 2)\n",
    "rawdata.boxplot(column=['Age', 'BodyweightKg'], grid=False)\n",
    "plt.title('Personenbezogenen Daten')\n",
    "\n",
    "#Subplot = Übungen\n",
    "plt.subplot(1, 3, 3)\n",
    "rawdata.boxplot(column=['BestSquatKg', \"BestDeadliftKg\"], grid=False)\n",
    "plt.title('Übungen')\n",
    "\n",
    "\"\"\"\n",
    "#rawdata.drop('PlayerID', axis=1).boxplot(grid=False)\n",
    "\n",
    "plt.subplot(1, 3, 4)\n",
    "rawdata.boxplot(column=['Age', 'BodyweightKg','BestSquatKg', 'BestDeadliftKg'], grid=False)\n",
    "plt.title('Daten')\n",
    "\"\"\"\n",
    "plt.tight_layout()\n",
    "plt.show()\n",
    "\n",
    "\"\"\"\n",
    "sns.set_style(\"whitegrid\")\n",
    "sns.boxplot(data=rawdata['Age'])\n",
    "\"\"\""
   ]
  },
  {
   "cell_type": "code",
   "execution_count": 7,
   "metadata": {},
   "outputs": [
    {
     "data": {
      "text/plain": [
       "'\"\\nQ1 = rawdata[\\'PRICE\\'].quantile(q=0.25, interpolation=\\'midpoint\\')\\nQ3 = rawdata[\\'PRICE\\'].quantile(q=0.75, interpolation=\\'midpoint\\')\\nIQR = Q3 - Q1\\nprint(\\'Interquartile range: \\', round(IQR, 2))\\n'"
      ]
     },
     "execution_count": 7,
     "metadata": {},
     "output_type": "execute_result"
    }
   ],
   "source": [
    "## Umgang mit Außreißer\n",
    "\"\"\"\"\n",
    "Q1 = rawdata['PRICE'].quantile(q=0.25, interpolation='midpoint')\n",
    "Q3 = rawdata['PRICE'].quantile(q=0.75, interpolation='midpoint')\n",
    "IQR = Q3 - Q1\n",
    "print('Interquartile range: ', round(IQR, 2))\n",
    "\"\"\""
   ]
  }
 ],
 "metadata": {
  "kernelspec": {
   "display_name": "AI",
   "language": "python",
   "name": "python3"
  },
  "language_info": {
   "codemirror_mode": {
    "name": "ipython",
    "version": 3
   },
   "file_extension": ".py",
   "mimetype": "text/x-python",
   "name": "python",
   "nbconvert_exporter": "python",
   "pygments_lexer": "ipython3",
   "version": "3.12.0"
  }
 },
 "nbformat": 4,
 "nbformat_minor": 2
}
