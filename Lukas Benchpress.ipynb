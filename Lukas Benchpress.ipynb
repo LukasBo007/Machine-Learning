{
 "cells": [
  {
   "cell_type": "markdown",
   "metadata": {},
   "source": [
    "# Regressionsanalyse Powerlifting "
   ]
  },
  {
   "cell_type": "markdown",
   "metadata": {},
   "source": [
    "## Libraries"
   ]
  },
  {
   "cell_type": "code",
   "execution_count": 1,
   "metadata": {},
   "outputs": [],
   "source": [
    "import numpy as np\n",
    "import pandas as pd\n",
    "#import seaborn as sns\n",
    "import matplotlib.pyplot as plt\n",
    "from sklearn.linear_model import LinearRegression\n",
    "from sklearn.model_selection import train_test_split\n",
    "from sklearn.preprocessing import MinMaxScaler\n",
    "import tensorflow as tf"
   ]
  },
  {
   "cell_type": "markdown",
   "metadata": {},
   "source": [
    "## Data"
   ]
  },
  {
   "cell_type": "code",
   "execution_count": 2,
   "metadata": {},
   "outputs": [
    {
     "data": {
      "text/html": [
       "<div>\n",
       "<style scoped>\n",
       "    .dataframe tbody tr th:only-of-type {\n",
       "        vertical-align: middle;\n",
       "    }\n",
       "\n",
       "    .dataframe tbody tr th {\n",
       "        vertical-align: top;\n",
       "    }\n",
       "\n",
       "    .dataframe thead th {\n",
       "        text-align: right;\n",
       "    }\n",
       "</style>\n",
       "<table border=\"1\" class=\"dataframe\">\n",
       "  <thead>\n",
       "    <tr style=\"text-align: right;\">\n",
       "      <th></th>\n",
       "      <th>playerId</th>\n",
       "      <th>Name</th>\n",
       "      <th>Sex</th>\n",
       "      <th>Equipment</th>\n",
       "      <th>Age</th>\n",
       "      <th>BodyweightKg</th>\n",
       "      <th>BestSquatKg</th>\n",
       "      <th>BestDeadliftKg</th>\n",
       "    </tr>\n",
       "  </thead>\n",
       "  <tbody>\n",
       "    <tr>\n",
       "      <th>0</th>\n",
       "      <td>19391.0</td>\n",
       "      <td>Carlos Ceron</td>\n",
       "      <td>M</td>\n",
       "      <td>Raw</td>\n",
       "      <td>23.0</td>\n",
       "      <td>87.30</td>\n",
       "      <td>205.0</td>\n",
       "      <td>235.0</td>\n",
       "    </tr>\n",
       "    <tr>\n",
       "      <th>1</th>\n",
       "      <td>15978.0</td>\n",
       "      <td>Tito Herrera</td>\n",
       "      <td>M</td>\n",
       "      <td>Wraps</td>\n",
       "      <td>23.0</td>\n",
       "      <td>73.48</td>\n",
       "      <td>220.0</td>\n",
       "      <td>260.0</td>\n",
       "    </tr>\n",
       "    <tr>\n",
       "      <th>2</th>\n",
       "      <td>27209.0</td>\n",
       "      <td>Levi Lehman</td>\n",
       "      <td>M</td>\n",
       "      <td>Raw</td>\n",
       "      <td>26.0</td>\n",
       "      <td>112.40</td>\n",
       "      <td>142.5</td>\n",
       "      <td>220.0</td>\n",
       "    </tr>\n",
       "    <tr>\n",
       "      <th>3</th>\n",
       "      <td>27496.0</td>\n",
       "      <td>Stacy Hayford</td>\n",
       "      <td>F</td>\n",
       "      <td>Raw</td>\n",
       "      <td>35.0</td>\n",
       "      <td>59.42</td>\n",
       "      <td>95.0</td>\n",
       "      <td>102.5</td>\n",
       "    </tr>\n",
       "    <tr>\n",
       "      <th>4</th>\n",
       "      <td>20293.0</td>\n",
       "      <td>Brittany Hirt</td>\n",
       "      <td>F</td>\n",
       "      <td>Raw</td>\n",
       "      <td>26.5</td>\n",
       "      <td>61.40</td>\n",
       "      <td>105.0</td>\n",
       "      <td>127.5</td>\n",
       "    </tr>\n",
       "  </tbody>\n",
       "</table>\n",
       "</div>"
      ],
      "text/plain": [
       "   playerId           Name Sex Equipment   Age  BodyweightKg BestSquatKg  \\\n",
       "0   19391.0   Carlos Ceron   M       Raw  23.0         87.30       205.0   \n",
       "1   15978.0   Tito Herrera   M     Wraps  23.0         73.48       220.0   \n",
       "2   27209.0    Levi Lehman   M       Raw  26.0        112.40       142.5   \n",
       "3   27496.0  Stacy Hayford   F       Raw  35.0         59.42        95.0   \n",
       "4   20293.0  Brittany Hirt   F       Raw  26.5         61.40       105.0   \n",
       "\n",
       "   BestDeadliftKg  \n",
       "0           235.0  \n",
       "1           260.0  \n",
       "2           220.0  \n",
       "3           102.5  \n",
       "4           127.5  "
      ]
     },
     "execution_count": 2,
     "metadata": {},
     "output_type": "execute_result"
    }
   ],
   "source": [
    "rawdata = pd.read_csv(\"Data.csv\")\n",
    "rawdata.head()\n",
    "#rawdata.describe()\n",
    "#rawdata.select_dtypes(include='object').describe()\n"
   ]
  },
  {
   "cell_type": "markdown",
   "metadata": {},
   "source": [
    "### Visualisierung der Daten"
   ]
  },
  {
   "cell_type": "code",
   "execution_count": 3,
   "metadata": {},
   "outputs": [
    {
     "name": "stdout",
     "output_type": "stream",
     "text": [
      "Anzahl der Einträge in Rawdata: 18900\n",
      "Kategorien in der Spalte von Eqipment: ['Raw' 'Wraps' 'Single-ply' 'Multi-ply']\n",
      "Kategorien in der Spalte von Eqipment: ['M' 'F']\n",
      "Altersspanne der Teilnehmer: 7.0 - 83.0\n",
      "Körpergewicht der Teilnehmer: 26.13 - 201.0\n",
      "67.57 % der Teilnehmer sind männlich und 32.43 % der Teilnehmer sind weiblich\n"
     ]
    }
   ],
   "source": [
    "# Anzahl der Einträge ausgeben\n",
    "num_entries = rawdata.shape[0]\n",
    "print(\"Anzahl der Einträge in Rawdata:\", num_entries)\n",
    "\n",
    "# Eindeutige Kategorien ausgeben\n",
    "unique_categories = rawdata[\"Equipment\"].unique()\n",
    "print(\"Kategorien in der Spalte von Eqipment:\", unique_categories)  \n",
    "\n",
    "# Überprüfen ob Diverse Geschlechter inkludiert sind\n",
    "unique_categories = rawdata[\"Sex\"].unique()\n",
    "print(\"Kategorien in der Spalte von Eqipment:\", unique_categories)  \n",
    "\n",
    "# Altersspanne berechnen\n",
    "print(\"Altersspanne der Teilnehmer:\", rawdata[\"Age\"].min(), \"-\", rawdata[\"Age\"].max())\n",
    "\n",
    "# Altersspanne berechnen\n",
    "print(\"Körpergewicht der Teilnehmer:\", rawdata[\"BodyweightKg\"].min(), \"-\", rawdata[\"BodyweightKg\"].max())\n",
    "\n",
    "# Zähle die Anzahl der Männer und Frauen\n",
    "count_men = (rawdata['Sex'] == 'M').sum()\n",
    "count_women = (rawdata['Sex'] == 'F').sum()\n",
    "\n",
    "# Berechne den Prozentsatz von Männern und Frauen\n",
    "percentage_men = (count_men / len(rawdata)) * 100\n",
    "percentage_women = (count_women / len(rawdata)) * 100\n",
    "print(round(percentage_men, 2), \"% der Teilnehmer sind männlich und\", round(percentage_women, 2), \"% der Teilnehmer sind weiblich\")\n"
   ]
  },
  {
   "cell_type": "markdown",
   "metadata": {},
   "source": [
    "Erläuterung des Equipments:<br>\n",
    "__Raw__ = Powerlifter verwenden kein Equipment<br>__Wraps__ = Athleten verwenden spezielle Bandagen für zusätzliche Stabilität an Knie oder Handgelenken <br>__Single-ply__ = Athleten tragen vollständige Ausrüstung, jedoch ist jede Schicht auf eine begrenzt.<br>__Multi-ply__ = Athleten tragen vollständige Ausrüstung mit mehreren erlaubten Schichten für maximale Unterstützung.\n",
    "\n"
   ]
  },
  {
   "cell_type": "markdown",
   "metadata": {},
   "source": [
    "## Datenverarbeitung"
   ]
  },
  {
   "cell_type": "markdown",
   "metadata": {},
   "source": [
    "### Fehlende Werte"
   ]
  },
  {
   "cell_type": "code",
   "execution_count": 4,
   "metadata": {},
   "outputs": [
    {
     "name": "stdout",
     "output_type": "stream",
     "text": [
      "playerId            0\n",
      "Name                0\n",
      "Sex                 0\n",
      "Equipment           0\n",
      "Age               175\n",
      "BodyweightKg        0\n",
      "BestSquatKg         0\n",
      "BestDeadliftKg      0\n",
      "dtype: int64\n",
      "Anzahl der Einträge in Rawdata: 18900 \n",
      "\n",
      "playerId          0\n",
      "Name              0\n",
      "Sex               0\n",
      "Equipment         0\n",
      "Age               0\n",
      "BodyweightKg      0\n",
      "BestSquatKg       0\n",
      "BestDeadliftKg    0\n",
      "dtype: int64\n",
      "Anzahl der Einträge in Rawdata: 18725 \n",
      "\n"
     ]
    }
   ],
   "source": [
    "\n",
    "# Überprüfen auf fehlende Werte\n",
    "print(rawdata.isnull().sum())\n",
    "num_entries = rawdata.shape[0]\n",
    "print(\"Anzahl der Einträge in Rawdata:\", num_entries, \"\\n\")\n",
    "\n",
    "# Da weniger als 1% der Daten unvollstänidg sind = Zeilen löschen\n",
    "rawdata = rawdata.dropna(axis=0)\n",
    "\n",
    "# Wiederholtes Überprüfen auf fehlende Werte\n",
    "print(rawdata.isnull().sum())\n",
    "num_entries = rawdata.shape[0]\n",
    "print(\"Anzahl der Einträge in Rawdata:\", num_entries, \"\\n\")\n"
   ]
  },
  {
   "cell_type": "markdown",
   "metadata": {},
   "source": [
    "### Sonderfall BestSquatKg"
   ]
  },
  {
   "cell_type": "code",
   "execution_count": 5,
   "metadata": {},
   "outputs": [
    {
     "data": {
      "text/html": [
       "<div>\n",
       "<style scoped>\n",
       "    .dataframe tbody tr th:only-of-type {\n",
       "        vertical-align: middle;\n",
       "    }\n",
       "\n",
       "    .dataframe tbody tr th {\n",
       "        vertical-align: top;\n",
       "    }\n",
       "\n",
       "    .dataframe thead th {\n",
       "        text-align: right;\n",
       "    }\n",
       "</style>\n",
       "<table border=\"1\" class=\"dataframe\">\n",
       "  <thead>\n",
       "    <tr style=\"text-align: right;\">\n",
       "      <th></th>\n",
       "      <th>Name</th>\n",
       "      <th>Sex</th>\n",
       "      <th>Equipment</th>\n",
       "      <th>BestSquatKg</th>\n",
       "    </tr>\n",
       "  </thead>\n",
       "  <tbody>\n",
       "    <tr>\n",
       "      <th>count</th>\n",
       "      <td>18725</td>\n",
       "      <td>18725</td>\n",
       "      <td>18725</td>\n",
       "      <td>18725</td>\n",
       "    </tr>\n",
       "    <tr>\n",
       "      <th>unique</th>\n",
       "      <td>15758</td>\n",
       "      <td>2</td>\n",
       "      <td>4</td>\n",
       "      <td>624</td>\n",
       "    </tr>\n",
       "    <tr>\n",
       "      <th>top</th>\n",
       "      <td>Scott Layman</td>\n",
       "      <td>M</td>\n",
       "      <td>Raw</td>\n",
       "      <td>182.5</td>\n",
       "    </tr>\n",
       "    <tr>\n",
       "      <th>freq</th>\n",
       "      <td>8</td>\n",
       "      <td>12643</td>\n",
       "      <td>12167</td>\n",
       "      <td>362</td>\n",
       "    </tr>\n",
       "  </tbody>\n",
       "</table>\n",
       "</div>"
      ],
      "text/plain": [
       "                Name    Sex Equipment BestSquatKg\n",
       "count          18725  18725     18725       18725\n",
       "unique         15758      2         4         624\n",
       "top     Scott Layman      M       Raw       182.5\n",
       "freq               8  12643     12167         362"
      ]
     },
     "execution_count": 5,
     "metadata": {},
     "output_type": "execute_result"
    }
   ],
   "source": [
    "rawdata.select_dtypes(include='object').describe()"
   ]
  },
  {
   "cell_type": "markdown",
   "metadata": {},
   "source": [
    "Uns ist aufgefallen, dass es sich bei BestSquatKg um einen String handelt, obwohl es bei einer Kilogramm zahl ein Float oder Integer sein müsste. Deshalb muss diese Spalte vorab angepasst werden."
   ]
  },
  {
   "cell_type": "code",
   "execution_count": 6,
   "metadata": {},
   "outputs": [
    {
     "name": "stdout",
     "output_type": "stream",
     "text": [
      "       playerId BestSquatKg\n",
      "94      11462.0      102..5\n",
      "1614    21517.0      227..5\n",
      "1663    12116.0      133..0\n",
      "1720    28706.0      192..5\n",
      "1766    23256.0      105..0\n",
      "2590    12648.0      195..0\n",
      "2803    20917.0      237..5\n",
      "4213     1659.0      122..5\n",
      "9712    24353.0      295..0\n",
      "12138   17751.0      180..0\n",
      "12429   16459.0      205..0\n",
      "12445   14456.0      110..0\n",
      "12664   13558.0      220..0\n",
      "16998     545.0      145..0\n",
      "18527    5539.0      207..5 \n",
      "\n",
      "       playerId  BestSquatKg\n",
      "94      11462.0        102.5\n",
      "1614    21517.0        227.5\n",
      "1663    12116.0        133.0\n",
      "1720    28706.0        192.5\n",
      "1766    23256.0        105.0\n",
      "2590    12648.0        195.0\n",
      "2803    20917.0        237.5\n",
      "4213     1659.0        122.5\n",
      "9712    24353.0        295.0\n",
      "12138   17751.0        180.0\n",
      "12429   16459.0        205.0\n",
      "12445   14456.0        110.0\n",
      "12664   13558.0        220.0\n",
      "16998     545.0        145.0\n",
      "18527    5539.0        207.5 \n",
      "\n"
     ]
    }
   ],
   "source": [
    "\n",
    "# Identifizierung der Einträge mit nicht-numerischen Werten in \"BestSquatKg\"\n",
    "# !!!!coerce erläutern...!!!!\n",
    "non_numeric_entries = pd.to_numeric(rawdata['BestSquatKg'], errors='coerce').isna()\n",
    "\n",
    "# Ausgabe der fehlerhaften Einträge\n",
    "print(rawdata[non_numeric_entries][['playerId', 'BestSquatKg']],\"\\n\")\n",
    "\n",
    "## Einige Werte wurden mit einem Punkt zu viel gespeichert, also ersetzen wir diese \n",
    "## Werte mit nur einem Punkt um Float-Werte zu erhalten\n",
    "\n",
    "# Korrektur der fehlerhaften Einträge\n",
    "rawdata['BestSquatKg'] = rawdata['BestSquatKg'].str.replace('..', '.', regex=False)\n",
    "\n",
    "# Konvertierung der korrigierten Spalte in einen numerischen Typ\n",
    "rawdata['BestSquatKg'] = pd.to_numeric(rawdata['BestSquatKg'])\n",
    "\n",
    "# Ausgabe der fehlerhaften Einträge\n",
    "print(rawdata[non_numeric_entries][['playerId', 'BestSquatKg']],\"\\n\")\n",
    "\n",
    "\n",
    "\n"
   ]
  },
  {
   "cell_type": "code",
   "execution_count": 7,
   "metadata": {},
   "outputs": [
    {
     "name": "stdout",
     "output_type": "stream",
     "text": [
      "Anzahl der Zeilen mit negativen Werten in 'BestSquatKg': 82\n",
      "Anzahl der Einträge in Rawdata: 18725 \n",
      "\n",
      "Anzahl der Zeilen mit negativen Werten in 'BestSquatKg' nach Anpassung: 0\n",
      "Anzahl der Einträge in Rawdata: 18643 \n",
      "\n"
     ]
    }
   ],
   "source": [
    "## Entfernen der negativen Werte\n",
    "\n",
    "# Zählen der negativen Werte\n",
    "count_of_negative_rows = (rawdata['BestSquatKg'] < 0).sum()\n",
    "print(\"Anzahl der Zeilen mit negativen Werten in 'BestSquatKg':\", count_of_negative_rows)\n",
    "\n",
    "num_entries = rawdata.shape[0]\n",
    "print(\"Anzahl der Einträge in Rawdata:\", num_entries, \"\\n\")\n",
    "\n",
    "# Entfernen der Zeilen mit negativen Werten in \"BestSquatKg\"\n",
    "rawdata = rawdata[rawdata['BestSquatKg'] >= 0]\n",
    "\n",
    "# Überprüfung \n",
    "count_of_negative_rows_updated = (rawdata['BestSquatKg'] < 0).sum()\n",
    "print(\"Anzahl der Zeilen mit negativen Werten in 'BestSquatKg' nach Anpassung:\", count_of_negative_rows_updated)\n",
    "\n",
    "num_entries = rawdata.shape[0]\n",
    "print(\"Anzahl der Einträge in Rawdata:\", num_entries, \"\\n\")\n",
    "\n",
    "## Unser erster Ansatz war es die negativen Werte in positive umzuwandeln, indem wir diese in absolute Zahlen transformieren.\n",
    "## Da es sich jedoch nur um 82 Werte handelt, habe wir entschieden diese zu entfernen.\n"
   ]
  },
  {
   "cell_type": "markdown",
   "metadata": {},
   "source": [
    "### Außreißer"
   ]
  },
  {
   "cell_type": "code",
   "execution_count": 8,
   "metadata": {},
   "outputs": [
    {
     "data": {
      "image/png": "[encoded data removed]",
      "text/plain": [
       "<Figure size 1800x1800 with 4 Axes>"
      ]
     },
     "metadata": {},
     "output_type": "display_data"
    },
    {
     "data": {
      "text/plain": [
       "'\\nsns.set_style(\"whitegrid\")\\nsns.boxplot(data=rawdata[\\'Age\\'])\\n'"
      ]
     },
     "execution_count": 8,
     "metadata": {},
     "output_type": "execute_result"
    }
   ],
   "source": [
    "## Visualisieren der Ausreißer\n",
    "\n",
    "# Formatierung\n",
    "plt.figure(figsize=(18, 18)) \n",
    "\n",
    "# Subplot = Alle\n",
    "plt.subplot(2, 3, 1)\n",
    "rawdata.drop(columns=['playerId']).boxplot(grid=False)\n",
    "plt.title('Alle')\n",
    "\n",
    "# Subplot = Alter\n",
    "plt.subplot(2, 3, 2)\n",
    "rawdata.boxplot(column=['Age'], grid=False)\n",
    "plt.title('Alter')\n",
    "\n",
    "# Subplot = Körpergewicht\n",
    "plt.subplot(2, 3, 3)\n",
    "rawdata.boxplot(column=['BodyweightKg'], grid=False)\n",
    "plt.title('Körpergewicht')\n",
    "\n",
    "# Subplot = Übungen\n",
    "plt.subplot(2, 3, 4)\n",
    "rawdata.boxplot(column=['BestSquatKg', 'BestDeadliftKg'], grid=False)\n",
    "plt.title('Übungen')\n",
    "\n",
    "# Ausgabe\n",
    "plt.tight_layout()\n",
    "plt.show()\n",
    "\n",
    "\"\"\"\n",
    "sns.set_style(\"whitegrid\")\n",
    "sns.boxplot(data=rawdata['Age'])\n",
    "\"\"\""
   ]
  },
  {
   "cell_type": "code",
   "execution_count": 9,
   "metadata": {},
   "outputs": [
    {
     "name": "stdout",
     "output_type": "stream",
     "text": [
      "Interquartile range:  97.81\n",
      "Sum of upper values:  7\n",
      "Sum of lower values:  0\n"
     ]
    }
   ],
   "source": [
    "## Umgang mit Außreißer\n",
    "\n",
    "# Festlegen der Interquantile\n",
    "Q1 = rawdata['BestDeadliftKg'].quantile(q=0.25, interpolation='midpoint') # Q1 = np.percentile(rawdata['PRICE'], q=25, method='midpoint')\n",
    "Q3 = rawdata['BestDeadliftKg'].quantile(q=0.75, interpolation='midpoint') # Q3 = np.percentile(rawdata['PRICE'], q=75, method='midpoint')\n",
    "IQR = Q3 - Q1\n",
    "print('Interquartile range: ', round(IQR, 2))\n",
    "\n",
    "# Upper bound\n",
    "upper_bound = Q3 + 1.5 * IQR\n",
    "upper= np.array(rawdata['BestDeadliftKg'] > upper_bound)\n",
    "print('Sum of upper values: ', upper.sum())\n",
    "# Lower bound\n",
    "lower_bound = Q1 - 1.5 * IQR\n",
    "lower = np.array(rawdata['BestDeadliftKg'] < lower_bound)\n",
    "print('Sum of lower values: ', lower.sum())\n",
    "\n",
    "# Setting outliers to boundaries\n",
    "rawdata.loc[rawdata['BestDeadliftKg'] > upper_bound, 'BestDeadliftKg'] = upper_bound\n",
    "rawdata.loc[rawdata['BestDeadliftKg'] < lower_bound, 'BestDeadliftKg'] = lower_bound"
   ]
  },
  {
   "cell_type": "markdown",
   "metadata": {},
   "source": [
    "### Dummifizierung"
   ]
  },
  {
   "cell_type": "code",
   "execution_count": 10,
   "metadata": {},
   "outputs": [
    {
     "data": {
      "text/html": [
       "<div>\n",
       "<style scoped>\n",
       "    .dataframe tbody tr th:only-of-type {\n",
       "        vertical-align: middle;\n",
       "    }\n",
       "\n",
       "    .dataframe tbody tr th {\n",
       "        vertical-align: top;\n",
       "    }\n",
       "\n",
       "    .dataframe thead th {\n",
       "        text-align: right;\n",
       "    }\n",
       "</style>\n",
       "<table border=\"1\" class=\"dataframe\">\n",
       "  <thead>\n",
       "    <tr style=\"text-align: right;\">\n",
       "      <th></th>\n",
       "      <th>playerId</th>\n",
       "      <th>Equipment_Raw</th>\n",
       "      <th>Equipment_Wraps</th>\n",
       "      <th>Equipment_Single-ply</th>\n",
       "      <th>Equipment_Multi-ply</th>\n",
       "      <th>Sex_M</th>\n",
       "      <th>Sex_F</th>\n",
       "    </tr>\n",
       "  </thead>\n",
       "  <tbody>\n",
       "    <tr>\n",
       "      <th>0</th>\n",
       "      <td>19391.0</td>\n",
       "      <td>True</td>\n",
       "      <td>False</td>\n",
       "      <td>False</td>\n",
       "      <td>False</td>\n",
       "      <td>True</td>\n",
       "      <td>False</td>\n",
       "    </tr>\n",
       "    <tr>\n",
       "      <th>1</th>\n",
       "      <td>15978.0</td>\n",
       "      <td>False</td>\n",
       "      <td>True</td>\n",
       "      <td>False</td>\n",
       "      <td>False</td>\n",
       "      <td>True</td>\n",
       "      <td>False</td>\n",
       "    </tr>\n",
       "    <tr>\n",
       "      <th>2</th>\n",
       "      <td>27209.0</td>\n",
       "      <td>True</td>\n",
       "      <td>False</td>\n",
       "      <td>False</td>\n",
       "      <td>False</td>\n",
       "      <td>True</td>\n",
       "      <td>False</td>\n",
       "    </tr>\n",
       "    <tr>\n",
       "      <th>3</th>\n",
       "      <td>27496.0</td>\n",
       "      <td>True</td>\n",
       "      <td>False</td>\n",
       "      <td>False</td>\n",
       "      <td>False</td>\n",
       "      <td>False</td>\n",
       "      <td>True</td>\n",
       "    </tr>\n",
       "    <tr>\n",
       "      <th>4</th>\n",
       "      <td>20293.0</td>\n",
       "      <td>True</td>\n",
       "      <td>False</td>\n",
       "      <td>False</td>\n",
       "      <td>False</td>\n",
       "      <td>False</td>\n",
       "      <td>True</td>\n",
       "    </tr>\n",
       "  </tbody>\n",
       "</table>\n",
       "</div>"
      ],
      "text/plain": [
       "   playerId  Equipment_Raw  Equipment_Wraps  Equipment_Single-ply  \\\n",
       "0   19391.0           True            False                 False   \n",
       "1   15978.0          False             True                 False   \n",
       "2   27209.0           True            False                 False   \n",
       "3   27496.0           True            False                 False   \n",
       "4   20293.0           True            False                 False   \n",
       "\n",
       "   Equipment_Multi-ply  Sex_M  Sex_F  \n",
       "0                False   True  False  \n",
       "1                False   True  False  \n",
       "2                False   True  False  \n",
       "3                False  False   True  \n",
       "4                False  False   True  "
      ]
     },
     "execution_count": 10,
     "metadata": {},
     "output_type": "execute_result"
    }
   ],
   "source": [
    "# Anpassen der Spalte Equipment\n",
    "rawdata = pd.get_dummies(rawdata, columns=[\"Equipment\"])\n",
    "rawdata = pd.get_dummies(rawdata, columns=[\"Sex\"])\n",
    "\n",
    "# Ausgabe\n",
    "#rawdata.sample(5)\n",
    "rawdata[['playerId', 'Equipment_Raw', 'Equipment_Wraps', 'Equipment_Single-ply', 'Equipment_Multi-ply', 'Sex_M', 'Sex_F']].head()"
   ]
  },
  {
   "cell_type": "markdown",
   "metadata": {},
   "source": [
    "### Aufteilen in Trainingssets"
   ]
  },
  {
   "cell_type": "code",
   "execution_count": 11,
   "metadata": {},
   "outputs": [],
   "source": [
    "# Convert data frame into numpy array and then split array into train and test arrays\n",
    "train, test = train_test_split(rawdata.to_numpy(), shuffle=True)"
   ]
  },
  {
   "cell_type": "markdown",
   "metadata": {},
   "source": [
    "### Formatierung der Trainingssets"
   ]
  },
  {
   "cell_type": "code",
   "execution_count": 12,
   "metadata": {},
   "outputs": [
    {
     "ename": "ValueError",
     "evalue": "could not convert string to float: 'Lee Maccarone'",
     "output_type": "error",
     "traceback": [
      "\u001b[0;31m---------------------------------------------------------------------------\u001b[0m",
      "\u001b[0;31mValueError\u001b[0m                                Traceback (most recent call last)",
      "Cell \u001b[0;32mIn[12], line 8\u001b[0m\n\u001b[1;32m      6\u001b[0m scaler_X \u001b[39m=\u001b[39m MinMaxScaler()\n\u001b[1;32m      7\u001b[0m scaler_y \u001b[39m=\u001b[39m MinMaxScaler()\n\u001b[0;32m----> 8\u001b[0m train_scaled_X \u001b[39m=\u001b[39m scaler_X\u001b[39m.\u001b[39;49mfit_transform(train_X)\n\u001b[1;32m      9\u001b[0m train_scaled_y \u001b[39m=\u001b[39m scaler_y\u001b[39m.\u001b[39mfit_transform(train_y)\n\u001b[1;32m     10\u001b[0m \u001b[39m# Apply the same scalers with learned parameters from training set on test set\u001b[39;00m\n",
      "File \u001b[0;32m~/miniconda3/envs/AI/lib/python3.11/site-packages/sklearn/utils/_set_output.py:157\u001b[0m, in \u001b[0;36m_wrap_method_output.<locals>.wrapped\u001b[0;34m(self, X, *args, **kwargs)\u001b[0m\n\u001b[1;32m    155\u001b[0m \u001b[39m@wraps\u001b[39m(f)\n\u001b[1;32m    156\u001b[0m \u001b[39mdef\u001b[39;00m \u001b[39mwrapped\u001b[39m(\u001b[39mself\u001b[39m, X, \u001b[39m*\u001b[39margs, \u001b[39m*\u001b[39m\u001b[39m*\u001b[39mkwargs):\n\u001b[0;32m--> 157\u001b[0m     data_to_wrap \u001b[39m=\u001b[39m f(\u001b[39mself\u001b[39;49m, X, \u001b[39m*\u001b[39;49margs, \u001b[39m*\u001b[39;49m\u001b[39m*\u001b[39;49mkwargs)\n\u001b[1;32m    158\u001b[0m     \u001b[39mif\u001b[39;00m \u001b[39misinstance\u001b[39m(data_to_wrap, \u001b[39mtuple\u001b[39m):\n\u001b[1;32m    159\u001b[0m         \u001b[39m# only wrap the first output for cross decomposition\u001b[39;00m\n\u001b[1;32m    160\u001b[0m         return_tuple \u001b[39m=\u001b[39m (\n\u001b[1;32m    161\u001b[0m             _wrap_data_with_container(method, data_to_wrap[\u001b[39m0\u001b[39m], X, \u001b[39mself\u001b[39m),\n\u001b[1;32m    162\u001b[0m             \u001b[39m*\u001b[39mdata_to_wrap[\u001b[39m1\u001b[39m:],\n\u001b[1;32m    163\u001b[0m         )\n",
      "File \u001b[0;32m~/miniconda3/envs/AI/lib/python3.11/site-packages/sklearn/base.py:916\u001b[0m, in \u001b[0;36mTransformerMixin.fit_transform\u001b[0;34m(self, X, y, **fit_params)\u001b[0m\n\u001b[1;32m    912\u001b[0m \u001b[39m# non-optimized default implementation; override when a better\u001b[39;00m\n\u001b[1;32m    913\u001b[0m \u001b[39m# method is possible for a given clustering algorithm\u001b[39;00m\n\u001b[1;32m    914\u001b[0m \u001b[39mif\u001b[39;00m y \u001b[39mis\u001b[39;00m \u001b[39mNone\u001b[39;00m:\n\u001b[1;32m    915\u001b[0m     \u001b[39m# fit method of arity 1 (unsupervised transformation)\u001b[39;00m\n\u001b[0;32m--> 916\u001b[0m     \u001b[39mreturn\u001b[39;00m \u001b[39mself\u001b[39;49m\u001b[39m.\u001b[39;49mfit(X, \u001b[39m*\u001b[39;49m\u001b[39m*\u001b[39;49mfit_params)\u001b[39m.\u001b[39mtransform(X)\n\u001b[1;32m    917\u001b[0m \u001b[39melse\u001b[39;00m:\n\u001b[1;32m    918\u001b[0m     \u001b[39m# fit method of arity 2 (supervised transformation)\u001b[39;00m\n\u001b[1;32m    919\u001b[0m     \u001b[39mreturn\u001b[39;00m \u001b[39mself\u001b[39m\u001b[39m.\u001b[39mfit(X, y, \u001b[39m*\u001b[39m\u001b[39m*\u001b[39mfit_params)\u001b[39m.\u001b[39mtransform(X)\n",
      "File \u001b[0;32m~/miniconda3/envs/AI/lib/python3.11/site-packages/sklearn/preprocessing/_data.py:435\u001b[0m, in \u001b[0;36mMinMaxScaler.fit\u001b[0;34m(self, X, y)\u001b[0m\n\u001b[1;32m    433\u001b[0m \u001b[39m# Reset internal state before fitting\u001b[39;00m\n\u001b[1;32m    434\u001b[0m \u001b[39mself\u001b[39m\u001b[39m.\u001b[39m_reset()\n\u001b[0;32m--> 435\u001b[0m \u001b[39mreturn\u001b[39;00m \u001b[39mself\u001b[39;49m\u001b[39m.\u001b[39;49mpartial_fit(X, y)\n",
      "File \u001b[0;32m~/miniconda3/envs/AI/lib/python3.11/site-packages/sklearn/base.py:1152\u001b[0m, in \u001b[0;36m_fit_context.<locals>.decorator.<locals>.wrapper\u001b[0;34m(estimator, *args, **kwargs)\u001b[0m\n\u001b[1;32m   1145\u001b[0m     estimator\u001b[39m.\u001b[39m_validate_params()\n\u001b[1;32m   1147\u001b[0m \u001b[39mwith\u001b[39;00m config_context(\n\u001b[1;32m   1148\u001b[0m     skip_parameter_validation\u001b[39m=\u001b[39m(\n\u001b[1;32m   1149\u001b[0m         prefer_skip_nested_validation \u001b[39mor\u001b[39;00m global_skip_validation\n\u001b[1;32m   1150\u001b[0m     )\n\u001b[1;32m   1151\u001b[0m ):\n\u001b[0;32m-> 1152\u001b[0m     \u001b[39mreturn\u001b[39;00m fit_method(estimator, \u001b[39m*\u001b[39;49margs, \u001b[39m*\u001b[39;49m\u001b[39m*\u001b[39;49mkwargs)\n",
      "File \u001b[0;32m~/miniconda3/envs/AI/lib/python3.11/site-packages/sklearn/preprocessing/_data.py:473\u001b[0m, in \u001b[0;36mMinMaxScaler.partial_fit\u001b[0;34m(self, X, y)\u001b[0m\n\u001b[1;32m    467\u001b[0m     \u001b[39mraise\u001b[39;00m \u001b[39mTypeError\u001b[39;00m(\n\u001b[1;32m    468\u001b[0m         \u001b[39m\"\u001b[39m\u001b[39mMinMaxScaler does not support sparse input. \u001b[39m\u001b[39m\"\u001b[39m\n\u001b[1;32m    469\u001b[0m         \u001b[39m\"\u001b[39m\u001b[39mConsider using MaxAbsScaler instead.\u001b[39m\u001b[39m\"\u001b[39m\n\u001b[1;32m    470\u001b[0m     )\n\u001b[1;32m    472\u001b[0m first_pass \u001b[39m=\u001b[39m \u001b[39mnot\u001b[39;00m \u001b[39mhasattr\u001b[39m(\u001b[39mself\u001b[39m, \u001b[39m\"\u001b[39m\u001b[39mn_samples_seen_\u001b[39m\u001b[39m\"\u001b[39m)\n\u001b[0;32m--> 473\u001b[0m X \u001b[39m=\u001b[39m \u001b[39mself\u001b[39;49m\u001b[39m.\u001b[39;49m_validate_data(\n\u001b[1;32m    474\u001b[0m     X,\n\u001b[1;32m    475\u001b[0m     reset\u001b[39m=\u001b[39;49mfirst_pass,\n\u001b[1;32m    476\u001b[0m     dtype\u001b[39m=\u001b[39;49mFLOAT_DTYPES,\n\u001b[1;32m    477\u001b[0m     force_all_finite\u001b[39m=\u001b[39;49m\u001b[39m\"\u001b[39;49m\u001b[39mallow-nan\u001b[39;49m\u001b[39m\"\u001b[39;49m,\n\u001b[1;32m    478\u001b[0m )\n\u001b[1;32m    480\u001b[0m data_min \u001b[39m=\u001b[39m np\u001b[39m.\u001b[39mnanmin(X, axis\u001b[39m=\u001b[39m\u001b[39m0\u001b[39m)\n\u001b[1;32m    481\u001b[0m data_max \u001b[39m=\u001b[39m np\u001b[39m.\u001b[39mnanmax(X, axis\u001b[39m=\u001b[39m\u001b[39m0\u001b[39m)\n",
      "File \u001b[0;32m~/miniconda3/envs/AI/lib/python3.11/site-packages/sklearn/base.py:605\u001b[0m, in \u001b[0;36mBaseEstimator._validate_data\u001b[0;34m(self, X, y, reset, validate_separately, cast_to_ndarray, **check_params)\u001b[0m\n\u001b[1;32m    603\u001b[0m         out \u001b[39m=\u001b[39m X, y\n\u001b[1;32m    604\u001b[0m \u001b[39melif\u001b[39;00m \u001b[39mnot\u001b[39;00m no_val_X \u001b[39mand\u001b[39;00m no_val_y:\n\u001b[0;32m--> 605\u001b[0m     out \u001b[39m=\u001b[39m check_array(X, input_name\u001b[39m=\u001b[39;49m\u001b[39m\"\u001b[39;49m\u001b[39mX\u001b[39;49m\u001b[39m\"\u001b[39;49m, \u001b[39m*\u001b[39;49m\u001b[39m*\u001b[39;49mcheck_params)\n\u001b[1;32m    606\u001b[0m \u001b[39melif\u001b[39;00m no_val_X \u001b[39mand\u001b[39;00m \u001b[39mnot\u001b[39;00m no_val_y:\n\u001b[1;32m    607\u001b[0m     out \u001b[39m=\u001b[39m _check_y(y, \u001b[39m*\u001b[39m\u001b[39m*\u001b[39mcheck_params)\n",
      "File \u001b[0;32m~/miniconda3/envs/AI/lib/python3.11/site-packages/sklearn/utils/validation.py:915\u001b[0m, in \u001b[0;36mcheck_array\u001b[0;34m(array, accept_sparse, accept_large_sparse, dtype, order, copy, force_all_finite, ensure_2d, allow_nd, ensure_min_samples, ensure_min_features, estimator, input_name)\u001b[0m\n\u001b[1;32m    913\u001b[0m         array \u001b[39m=\u001b[39m xp\u001b[39m.\u001b[39mastype(array, dtype, copy\u001b[39m=\u001b[39m\u001b[39mFalse\u001b[39;00m)\n\u001b[1;32m    914\u001b[0m     \u001b[39melse\u001b[39;00m:\n\u001b[0;32m--> 915\u001b[0m         array \u001b[39m=\u001b[39m _asarray_with_order(array, order\u001b[39m=\u001b[39;49morder, dtype\u001b[39m=\u001b[39;49mdtype, xp\u001b[39m=\u001b[39;49mxp)\n\u001b[1;32m    916\u001b[0m \u001b[39mexcept\u001b[39;00m ComplexWarning \u001b[39mas\u001b[39;00m complex_warning:\n\u001b[1;32m    917\u001b[0m     \u001b[39mraise\u001b[39;00m \u001b[39mValueError\u001b[39;00m(\n\u001b[1;32m    918\u001b[0m         \u001b[39m\"\u001b[39m\u001b[39mComplex data not supported\u001b[39m\u001b[39m\\n\u001b[39;00m\u001b[39m{}\u001b[39;00m\u001b[39m\\n\u001b[39;00m\u001b[39m\"\u001b[39m\u001b[39m.\u001b[39mformat(array)\n\u001b[1;32m    919\u001b[0m     ) \u001b[39mfrom\u001b[39;00m \u001b[39mcomplex_warning\u001b[39;00m\n",
      "File \u001b[0;32m~/miniconda3/envs/AI/lib/python3.11/site-packages/sklearn/utils/_array_api.py:380\u001b[0m, in \u001b[0;36m_asarray_with_order\u001b[0;34m(array, dtype, order, copy, xp)\u001b[0m\n\u001b[1;32m    378\u001b[0m     array \u001b[39m=\u001b[39m numpy\u001b[39m.\u001b[39marray(array, order\u001b[39m=\u001b[39morder, dtype\u001b[39m=\u001b[39mdtype)\n\u001b[1;32m    379\u001b[0m \u001b[39melse\u001b[39;00m:\n\u001b[0;32m--> 380\u001b[0m     array \u001b[39m=\u001b[39m numpy\u001b[39m.\u001b[39;49masarray(array, order\u001b[39m=\u001b[39;49morder, dtype\u001b[39m=\u001b[39;49mdtype)\n\u001b[1;32m    382\u001b[0m \u001b[39m# At this point array is a NumPy ndarray. We convert it to an array\u001b[39;00m\n\u001b[1;32m    383\u001b[0m \u001b[39m# container that is consistent with the input's namespace.\u001b[39;00m\n\u001b[1;32m    384\u001b[0m \u001b[39mreturn\u001b[39;00m xp\u001b[39m.\u001b[39masarray(array)\n",
      "\u001b[0;31mValueError\u001b[0m: could not convert string to float: 'Lee Maccarone'"
     ]
    }
   ],
   "source": [
    "\n",
    "# Extract X and y\n",
    "train_X, train_y = train[:, 1:], train[:, 0].reshape(-1, 1)\n",
    "test_X, test_y = test[:, 1:], test[:, 0].reshape(-1, 1)\n",
    "\n",
    "# Fit a scaler on the training set and distinguish between X and y fits for later inverse transformations\n",
    "scaler_X = MinMaxScaler()\n",
    "scaler_y = MinMaxScaler()\n",
    "train_scaled_X = scaler_X.fit_transform(train_X)\n",
    "train_scaled_y = scaler_y.fit_transform(train_y)\n",
    "# Apply the same scalers with learned parameters from training set on test set\n",
    "test_scaled_X = scaler_X.transform(test_X)\n",
    "test_scaled_y = scaler_y.transform(test_y)\n",
    "\n",
    "#Furkan fragen\n",
    "\n",
    "'''\n",
    "Alles ausgeführt und den Fehler chatgpt gezeigt, die antwort darauf: \n",
    "\n",
    "Der Fehler, den Sie erhalten, deutet darauf hin, dass Ihre Eingabedaten train_X eine oder mehrere Zeichenketten enthalten, \n",
    "die nicht in Fließkommazahlen umgewandelt werden können. Dies passiert in der Regel, wenn die Daten kategoriale Variablen oder \n",
    "Textdaten enthalten, die noch nicht für die Modellierung vorbereitet wurden. \n",
    "MinMaxScaler und viele maschinelle Lernmodelle in sklearn erfordern numerische Eingaben, daher der Fehler.\n",
    "\n",
    "Nach der Analyse findet er wieder doppelte punkte\n",
    "\n",
    "         BestSquatKg  \n",
    "94         102..5           \n",
    "1614       227..5            \n",
    "1663       133..0           \n",
    "1720       192..5           \n",
    "1766       105..0           \n",
    "2590       195..0           \n",
    "2803       237..5           \n",
    "4213       122..5            \n",
    "9712       295..0           \n",
    "12138      180..0           \n",
    "12429      205..0            \n",
    "12445      110..0           \n",
    "12664      220..0            \n",
    "16998      145..0          \n",
    "18527      207..5           \n",
    "'''\n",
    "\n",
    "\n",
    "'''\n",
    "Hier noch ein Vorschlag von chatgpt für weiteres Vorgehen. (Optional)\n",
    "\n",
    "Nachdem Sie die Daten skaliert haben, können Sie das maschinelle Lernmodell, z.B. \n",
    "ein lineares Regressionsmodell, auf die skalierten Trainingsdaten anwenden. \n",
    "Hier ist ein Beispiel, wie Sie fortfahren könnten:\n",
    "\n",
    "# Modell initialisieren\n",
    "model = LinearRegression()\n",
    "\n",
    "# Modell mit skalierten Trainingsdaten trainieren\n",
    "model.fit(train_scaled_X, train_scaled_y)\n",
    "\n",
    "# Vorhersagen auf dem skalierten Testdatensatz machen\n",
    "predictions_scaled_y = model.predict(test_scaled_X)\n",
    "\n",
    "# Vorhersagen zurückskalieren auf ursprüngliche Werte\n",
    "predictions_y = scaler_y.inverse_transform(predictions_scaled_y)\n",
    "\n",
    "# Bewertung des Modells, z.B. mittels R²-Wert oder MSE\n",
    "from sklearn.metrics import mean_squared_error, r2_score\n",
    "mse = mean_squared_error(scaler_y.inverse_transform(test_scaled_y), predictions_y)\n",
    "r2 = r2_score(scaler_y.inverse_transform(test_scaled_y), predictions_y)\n",
    "\n",
    "print(f\"MSE: {mse}\")\n",
    "print(f\"R²-Wert: {r2}\")\n",
    "\n",
    "\n",
    "'''"
   ]
  },
  {
   "cell_type": "markdown",
   "metadata": {},
   "source": [
    "## Quellen"
   ]
  },
  {
   "cell_type": "markdown",
   "metadata": {},
   "source": [
    "- https://www.kaggle.com/datasets/kukuroo3/powerlifting-benchpress-weight-predict\n",
    "- https://www.kaggle.com/code/yasseinmahmoud/eda-benchpress-weight\n",
    "- https://chat.openai.com/\n",
    "- https://www.ibm.com/docs/en/watson-studio-local/1.2.3?topic=notebooks-markdown-jupyter-cheatsheet"
   ]
  }
 ],
 "metadata": {
  "kernelspec": {
   "display_name": "AI",
   "language": "python",
   "name": "python3"
  },
  "language_info": {
   "codemirror_mode": {
    "name": "ipython",
    "version": 3
   },
   "file_extension": ".py",
   "mimetype": "text/x-python",
   "name": "python",
   "nbconvert_exporter": "python",
   "pygments_lexer": "ipython3",
   "version": "3.11.5"
  }
 },
 "nbformat": 4,
 "nbformat_minor": 2
}
