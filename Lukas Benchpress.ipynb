{
 "cells": [
  {
   "cell_type": "markdown",
   "metadata": {},
   "source": [
    "# Regressionsanalyse Powerlifting "
   ]
  },
  {
   "cell_type": "markdown",
   "metadata": {},
   "source": [
    "## Libraries"
   ]
  },
  {
   "cell_type": "code",
   "execution_count": 1,
   "metadata": {},
   "outputs": [
    {
     "name": "stderr",
     "output_type": "stream",
     "text": [
      "/tmp/ipykernel_42996/3663271753.py:2: DeprecationWarning: \n",
      "Pyarrow will become a required dependency of pandas in the next major release of pandas (pandas 3.0),\n",
      "(to allow more performant data types, such as the Arrow string type, and better interoperability with other libraries)\n",
      "but was not found to be installed on your system.\n",
      "If this would cause problems for you,\n",
      "please provide us feedback at https://github.com/pandas-dev/pandas/issues/54466\n",
      "        \n",
      "  import pandas as pd\n",
      "2024-02-26 09:43:53.412728: I external/local_tsl/tsl/cuda/cudart_stub.cc:31] Could not find cuda drivers on your machine, GPU will not be used.\n",
      "2024-02-26 09:43:53.447502: E external/local_xla/xla/stream_executor/cuda/cuda_dnn.cc:9261] Unable to register cuDNN factory: Attempting to register factory for plugin cuDNN when one has already been registered\n",
      "2024-02-26 09:43:53.447535: E external/local_xla/xla/stream_executor/cuda/cuda_fft.cc:607] Unable to register cuFFT factory: Attempting to register factory for plugin cuFFT when one has already been registered\n",
      "2024-02-26 09:43:53.448846: E external/local_xla/xla/stream_executor/cuda/cuda_blas.cc:1515] Unable to register cuBLAS factory: Attempting to register factory for plugin cuBLAS when one has already been registered\n",
      "2024-02-26 09:43:53.454857: I external/local_tsl/tsl/cuda/cudart_stub.cc:31] Could not find cuda drivers on your machine, GPU will not be used.\n",
      "2024-02-26 09:43:53.455811: I tensorflow/core/platform/cpu_feature_guard.cc:182] This TensorFlow binary is optimized to use available CPU instructions in performance-critical operations.\n",
      "To enable the following instructions: AVX2 FMA, in other operations, rebuild TensorFlow with the appropriate compiler flags.\n",
      "2024-02-26 09:43:54.445590: W tensorflow/compiler/tf2tensorrt/utils/py_utils.cc:38] TF-TRT Warning: Could not find TensorRT\n"
     ]
    }
   ],
   "source": [
    "import numpy as np\n",
    "import pandas as pd\n",
    "#import seaborn as sns\n",
    "import matplotlib.pyplot as plt\n",
    "from sklearn.linear_model import LinearRegression\n",
    "from sklearn.model_selection import train_test_split\n",
    "from sklearn.preprocessing import MinMaxScaler\n",
    "import tensorflow as tf"
   ]
  },
  {
   "cell_type": "markdown",
   "metadata": {},
   "source": [
    "## Data"
   ]
  },
  {
   "cell_type": "code",
   "execution_count": 2,
   "metadata": {},
   "outputs": [
    {
     "data": {
      "text/html": [
       "<div>\n",
       "<style scoped>\n",
       "    .dataframe tbody tr th:only-of-type {\n",
       "        vertical-align: middle;\n",
       "    }\n",
       "\n",
       "    .dataframe tbody tr th {\n",
       "        vertical-align: top;\n",
       "    }\n",
       "\n",
       "    .dataframe thead th {\n",
       "        text-align: right;\n",
       "    }\n",
       "</style>\n",
       "<table border=\"1\" class=\"dataframe\">\n",
       "  <thead>\n",
       "    <tr style=\"text-align: right;\">\n",
       "      <th></th>\n",
       "      <th>playerId</th>\n",
       "      <th>Name</th>\n",
       "      <th>Sex</th>\n",
       "      <th>Equipment</th>\n",
       "      <th>Age</th>\n",
       "      <th>BodyweightKg</th>\n",
       "      <th>BestSquatKg</th>\n",
       "      <th>BestDeadliftKg</th>\n",
       "    </tr>\n",
       "  </thead>\n",
       "  <tbody>\n",
       "    <tr>\n",
       "      <th>0</th>\n",
       "      <td>19391.0</td>\n",
       "      <td>Carlos Ceron</td>\n",
       "      <td>M</td>\n",
       "      <td>Raw</td>\n",
       "      <td>23.0</td>\n",
       "      <td>87.30</td>\n",
       "      <td>205.0</td>\n",
       "      <td>235.0</td>\n",
       "    </tr>\n",
       "    <tr>\n",
       "      <th>1</th>\n",
       "      <td>15978.0</td>\n",
       "      <td>Tito Herrera</td>\n",
       "      <td>M</td>\n",
       "      <td>Wraps</td>\n",
       "      <td>23.0</td>\n",
       "      <td>73.48</td>\n",
       "      <td>220.0</td>\n",
       "      <td>260.0</td>\n",
       "    </tr>\n",
       "    <tr>\n",
       "      <th>2</th>\n",
       "      <td>27209.0</td>\n",
       "      <td>Levi Lehman</td>\n",
       "      <td>M</td>\n",
       "      <td>Raw</td>\n",
       "      <td>26.0</td>\n",
       "      <td>112.40</td>\n",
       "      <td>142.5</td>\n",
       "      <td>220.0</td>\n",
       "    </tr>\n",
       "    <tr>\n",
       "      <th>3</th>\n",
       "      <td>27496.0</td>\n",
       "      <td>Stacy Hayford</td>\n",
       "      <td>F</td>\n",
       "      <td>Raw</td>\n",
       "      <td>35.0</td>\n",
       "      <td>59.42</td>\n",
       "      <td>95.0</td>\n",
       "      <td>102.5</td>\n",
       "    </tr>\n",
       "    <tr>\n",
       "      <th>4</th>\n",
       "      <td>20293.0</td>\n",
       "      <td>Brittany Hirt</td>\n",
       "      <td>F</td>\n",
       "      <td>Raw</td>\n",
       "      <td>26.5</td>\n",
       "      <td>61.40</td>\n",
       "      <td>105.0</td>\n",
       "      <td>127.5</td>\n",
       "    </tr>\n",
       "  </tbody>\n",
       "</table>\n",
       "</div>"
      ],
      "text/plain": [
       "   playerId           Name Sex Equipment   Age  BodyweightKg BestSquatKg  \\\n",
       "0   19391.0   Carlos Ceron   M       Raw  23.0         87.30       205.0   \n",
       "1   15978.0   Tito Herrera   M     Wraps  23.0         73.48       220.0   \n",
       "2   27209.0    Levi Lehman   M       Raw  26.0        112.40       142.5   \n",
       "3   27496.0  Stacy Hayford   F       Raw  35.0         59.42        95.0   \n",
       "4   20293.0  Brittany Hirt   F       Raw  26.5         61.40       105.0   \n",
       "\n",
       "   BestDeadliftKg  \n",
       "0           235.0  \n",
       "1           260.0  \n",
       "2           220.0  \n",
       "3           102.5  \n",
       "4           127.5  "
      ]
     },
     "execution_count": 2,
     "metadata": {},
     "output_type": "execute_result"
    }
   ],
   "source": [
    "rawdata = pd.read_csv(\"Data.csv\")\n",
    "rawdata.head()"
   ]
  },
  {
   "cell_type": "markdown",
   "metadata": {},
   "source": [
    "### Visualisierung der Daten"
   ]
  },
  {
   "cell_type": "code",
   "execution_count": 3,
   "metadata": {},
   "outputs": [
    {
     "name": "stdout",
     "output_type": "stream",
     "text": [
      "Anzahl der Einträge in Rawdata: 18900\n",
      "Kategorien in der Spalte von Eqipment: ['Raw' 'Wraps' 'Single-ply' 'Multi-ply']\n",
      "Kategorien in der Spalte von Eqipment: ['M' 'F']\n",
      "Altersspanne der Teilnehmer: 7.0 - 83.0\n",
      "Körpergewicht der Teilnehmer: 26.13 - 201.0\n"
     ]
    }
   ],
   "source": [
    "# Anzahl der Einträge ausgeben\n",
    "num_entries = rawdata.shape[0]\n",
    "print(\"Anzahl der Einträge in Rawdata:\", num_entries)\n",
    "\n",
    "# Eindeutige Kategorien ausgeben\n",
    "unique_categories = rawdata[\"Equipment\"].unique()\n",
    "print(\"Kategorien in der Spalte von Eqipment:\", unique_categories)  \n",
    "\n",
    "# Überprüfen ob Diverse Geschlechter inkludiert sind\n",
    "unique_categories = rawdata[\"Sex\"].unique()\n",
    "print(\"Kategorien in der Spalte von Eqipment:\", unique_categories)  \n",
    "\n",
    "# Altersspanne berechnen\n",
    "print(\"Altersspanne der Teilnehmer:\", rawdata[\"Age\"].min(), \"-\", rawdata[\"Age\"].max())\n",
    "\n",
    "# Altersspanne berechnen\n",
    "print(\"Körpergewicht der Teilnehmer:\", rawdata[\"BodyweightKg\"].min(), \"-\", rawdata[\"BodyweightKg\"].max())"
   ]
  },
  {
   "cell_type": "markdown",
   "metadata": {},
   "source": [
    "Erläuterung des Equipments:<br>\n",
    "__Raw__ = Powerlifter verwenden kein Equipment<br>__Wraps__ = Athleten verwenden spezielle Bandagen für zusätzliche Stabilität an Knie oder Handgelenken <br>__Single-ply__ = Athleten tragen vollständige Ausrüstung, jedoch ist jede Schicht auf eine begrenzt.<br>__Multi-ply__ = Athleten tragen vollständige Ausrüstung mit mehreren erlaubten Schichten für maximale Unterstützung.\n",
    "\n"
   ]
  },
  {
   "cell_type": "markdown",
   "metadata": {},
   "source": [
    "## Datenverarbeitung"
   ]
  },
  {
   "cell_type": "markdown",
   "metadata": {},
   "source": [
    "### Fehlende Werte"
   ]
  },
  {
   "cell_type": "code",
   "execution_count": 4,
   "metadata": {},
   "outputs": [
    {
     "name": "stdout",
     "output_type": "stream",
     "text": [
      "playerId            0\n",
      "Name                0\n",
      "Sex                 0\n",
      "Equipment           0\n",
      "Age               175\n",
      "BodyweightKg        0\n",
      "BestSquatKg         0\n",
      "BestDeadliftKg      0\n",
      "dtype: int64\n",
      "Anzahl der Einträge in Rawdata: 18900 \n",
      "\n",
      "playerId          0\n",
      "Name              0\n",
      "Sex               0\n",
      "Equipment         0\n",
      "Age               0\n",
      "BodyweightKg      0\n",
      "BestSquatKg       0\n",
      "BestDeadliftKg    0\n",
      "dtype: int64\n",
      "Anzahl der Einträge in Rawdata: 18725 \n",
      "\n"
     ]
    }
   ],
   "source": [
    "\n",
    "# Überprüfen auf fehlende Werte\n",
    "print(rawdata.isnull().sum())\n",
    "num_entries = rawdata.shape[0]\n",
    "print(\"Anzahl der Einträge in Rawdata:\", num_entries, \"\\n\")\n",
    "\n",
    "# Da weniger als 1% der Daten unvollstänidg sind = Zeilen löschen\n",
    "rawdata = rawdata.dropna(axis=0)\n",
    "\n",
    "# Wiederholtes Überprüfen auf fehlende Werte\n",
    "print(rawdata.isnull().sum())\n",
    "num_entries = rawdata.shape[0]\n",
    "print(\"Anzahl der Einträge in Rawdata:\", num_entries, \"\\n\")\n"
   ]
  },
  {
   "cell_type": "markdown",
   "metadata": {},
   "source": [
    "### Sonderfall BestSquatKg"
   ]
  },
  {
   "cell_type": "code",
   "execution_count": 5,
   "metadata": {},
   "outputs": [
    {
     "name": "stdout",
     "output_type": "stream",
     "text": [
      "       playerId BestSquatKg\n",
      "94      11462.0      102..5\n",
      "1614    21517.0      227..5\n",
      "1663    12116.0      133..0\n",
      "1720    28706.0      192..5\n",
      "1766    23256.0      105..0\n",
      "2590    12648.0      195..0\n",
      "2803    20917.0      237..5\n",
      "4213     1659.0      122..5\n",
      "9712    24353.0      295..0\n",
      "12138   17751.0      180..0\n",
      "12429   16459.0      205..0\n",
      "12445   14456.0      110..0\n",
      "12664   13558.0      220..0\n",
      "16998     545.0      145..0\n",
      "18527    5539.0      207..5 \n",
      "\n",
      "       playerId  BestSquatKg\n",
      "94      11462.0        102.5\n",
      "1614    21517.0        227.5\n",
      "1663    12116.0        133.0\n",
      "1720    28706.0        192.5\n",
      "1766    23256.0        105.0\n",
      "2590    12648.0        195.0\n",
      "2803    20917.0        237.5\n",
      "4213     1659.0        122.5\n",
      "9712    24353.0        295.0\n",
      "12138   17751.0        180.0\n",
      "12429   16459.0        205.0\n",
      "12445   14456.0        110.0\n",
      "12664   13558.0        220.0\n",
      "16998     545.0        145.0\n",
      "18527    5539.0        207.5 \n",
      "\n",
      "Anzahl der Zeilen mit negativen Werten in 'BestSquatKg': 82\n",
      "Anzahl der Zeilen mit negativen Werten in 'BestSquatKg' nach Anpassung: 0\n"
     ]
    }
   ],
   "source": [
    "\n",
    "#Identifizierung der Einträge mit nicht-numerischen Werten in \"BestSquatKg\"\n",
    "#coerce erläutern\n",
    "non_numeric_entries = pd.to_numeric(rawdata['BestSquatKg'], errors='coerce').isna()\n",
    "\n",
    "#Ausgabe der fehlerhaften Einträge\n",
    "print(rawdata[non_numeric_entries][['playerId', 'BestSquatKg']],\"\\n\")\n",
    "\n",
    "#Korrektur der fehlerhaften Einträge, indem der doppelte Punkt durch einen einzigen ersetzt wird\n",
    "rawdata['BestSquatKg'] = rawdata['BestSquatKg'].str.replace('..', '.', regex=False)\n",
    "\n",
    "#Konvertierung der korrigierten Spalte in einen numerischen Typ\n",
    "rawdata['BestSquatKg'] = pd.to_numeric(rawdata['BestSquatKg'])\n",
    "\n",
    "#Ausgabe der fehlerhaften Einträge\n",
    "print(rawdata[non_numeric_entries][['playerId', 'BestSquatKg']],\"\\n\")\n",
    "\n",
    "#Umwandlung negativer Werte in \"BestSquatKg\" in positive durch Anwendung des absoluten Wertes, da wir vermuten dass es sich hier um Vorzeichen fehler handelt   \n",
    "#zählen der negativen Werte\n",
    "count_of_negative_rows = (rawdata['BestSquatKg'] < 0).sum()\n",
    "print(\"Anzahl der Zeilen mit negativen Werten in 'BestSquatKg':\", count_of_negative_rows)\n",
    "\n",
    "#Anpasses der Vorzeichen mit absoluten Werten\n",
    "rawdata['BestSquatKg'] = rawdata['BestSquatKg'].abs()\n",
    "\n",
    "#Überprüfung \n",
    "count_of_negative_rows_updated = (rawdata['BestSquatKg'] < 0).sum()\n",
    "print(\"Anzahl der Zeilen mit negativen Werten in 'BestSquatKg' nach Anpassung:\", count_of_negative_rows_updated)\n",
    "\n",
    "\n",
    "\n",
    "\n",
    "\n",
    "\n",
    "\n"
   ]
  },
  {
   "cell_type": "markdown",
   "metadata": {},
   "source": [
    "### Außreißer"
   ]
  },
  {
   "cell_type": "code",
   "execution_count": 6,
   "metadata": {},
   "outputs": [
    {
     "data": {
      "image/png": "[encoded data removed]",
      "text/plain": [
       "<Figure size 1800x1800 with 4 Axes>"
      ]
     },
     "metadata": {},
     "output_type": "display_data"
    },
    {
     "data": {
      "text/plain": [
       "'\\nsns.set_style(\"whitegrid\")\\nsns.boxplot(data=rawdata[\\'Age\\'])\\n'"
      ]
     },
     "execution_count": 6,
     "metadata": {},
     "output_type": "execute_result"
    }
   ],
   "source": [
    "## Visualisieren der Ausreißer\n",
    "\n",
    "#Formatierung\n",
    "plt.figure(figsize=(18, 18)) \n",
    "\n",
    "# Subplot = Alle\n",
    "plt.subplot(2, 3, 1)\n",
    "rawdata.drop(columns=['playerId']).boxplot(grid=False)\n",
    "plt.title('Alle')\n",
    "\n",
    "# Subplot = Alter\n",
    "plt.subplot(2, 3, 2)\n",
    "rawdata.boxplot(column=['Age'], grid=False)\n",
    "plt.title('Alter')\n",
    "\n",
    "# Subplot = Körpergewicht\n",
    "plt.subplot(2, 3, 3)\n",
    "rawdata.boxplot(column=['BodyweightKg'], grid=False)\n",
    "plt.title('Körpergewicht')\n",
    "\n",
    "# Subplot = Übungen\n",
    "plt.subplot(2, 3, 4)\n",
    "rawdata.boxplot(column=['BestSquatKg', 'BestDeadliftKg'], grid=False)\n",
    "plt.title('Übungen')\n",
    "\n",
    "plt.tight_layout()\n",
    "plt.show()\n",
    "\n",
    "\"\"\"\n",
    "sns.set_style(\"whitegrid\")\n",
    "sns.boxplot(data=rawdata['Age'])\n",
    "\"\"\""
   ]
  },
  {
   "cell_type": "code",
   "execution_count": 7,
   "metadata": {},
   "outputs": [
    {
     "name": "stdout",
     "output_type": "stream",
     "text": [
      "Interquartile range:  97.81\n",
      "Sum of upper values:  7\n",
      "Sum of lower values:  0\n"
     ]
    }
   ],
   "source": [
    "## Umgang mit Außreißer\n",
    "\n",
    "#Festlegen der Interquantile\n",
    "Q1 = rawdata['BestDeadliftKg'].quantile(q=0.25, interpolation='midpoint') # Q1 = np.percentile(rawdata['PRICE'], q=25, method='midpoint')\n",
    "Q3 = rawdata['BestDeadliftKg'].quantile(q=0.75, interpolation='midpoint') # Q3 = np.percentile(rawdata['PRICE'], q=75, method='midpoint')\n",
    "IQR = Q3 - Q1\n",
    "print('Interquartile range: ', round(IQR, 2))\n",
    "\n",
    "# Upper bound\n",
    "upper_bound = Q3 + 1.5 * IQR\n",
    "upper= np.array(rawdata['BestDeadliftKg'] > upper_bound)\n",
    "print('Sum of upper values: ', upper.sum())\n",
    "# Lower bound\n",
    "lower_bound = Q1 - 1.5 * IQR\n",
    "lower = np.array(rawdata['BestDeadliftKg'] < lower_bound)\n",
    "print('Sum of lower values: ', lower.sum())\n",
    "\n",
    "# Setting outliers to boundaries\n",
    "rawdata.loc[rawdata['BestDeadliftKg'] > upper_bound, 'BestDeadliftKg'] = upper_bound\n",
    "rawdata.loc[rawdata['BestDeadliftKg'] < lower_bound, 'BestDeadliftKg'] = lower_bound"
   ]
  },
  {
   "cell_type": "markdown",
   "metadata": {},
   "source": [
    "### Dummifizierung"
   ]
  },
  {
   "cell_type": "code",
   "execution_count": 8,
   "metadata": {},
   "outputs": [
    {
     "data": {
      "text/html": [
       "<div>\n",
       "<style scoped>\n",
       "    .dataframe tbody tr th:only-of-type {\n",
       "        vertical-align: middle;\n",
       "    }\n",
       "\n",
       "    .dataframe tbody tr th {\n",
       "        vertical-align: top;\n",
       "    }\n",
       "\n",
       "    .dataframe thead th {\n",
       "        text-align: right;\n",
       "    }\n",
       "</style>\n",
       "<table border=\"1\" class=\"dataframe\">\n",
       "  <thead>\n",
       "    <tr style=\"text-align: right;\">\n",
       "      <th></th>\n",
       "      <th>playerId</th>\n",
       "      <th>Equipment_Raw</th>\n",
       "      <th>Equipment_Wraps</th>\n",
       "      <th>Equipment_Single-ply</th>\n",
       "      <th>Equipment_Multi-ply</th>\n",
       "    </tr>\n",
       "  </thead>\n",
       "  <tbody>\n",
       "    <tr>\n",
       "      <th>0</th>\n",
       "      <td>19391.0</td>\n",
       "      <td>True</td>\n",
       "      <td>False</td>\n",
       "      <td>False</td>\n",
       "      <td>False</td>\n",
       "    </tr>\n",
       "    <tr>\n",
       "      <th>1</th>\n",
       "      <td>15978.0</td>\n",
       "      <td>False</td>\n",
       "      <td>True</td>\n",
       "      <td>False</td>\n",
       "      <td>False</td>\n",
       "    </tr>\n",
       "    <tr>\n",
       "      <th>2</th>\n",
       "      <td>27209.0</td>\n",
       "      <td>True</td>\n",
       "      <td>False</td>\n",
       "      <td>False</td>\n",
       "      <td>False</td>\n",
       "    </tr>\n",
       "    <tr>\n",
       "      <th>3</th>\n",
       "      <td>27496.0</td>\n",
       "      <td>True</td>\n",
       "      <td>False</td>\n",
       "      <td>False</td>\n",
       "      <td>False</td>\n",
       "    </tr>\n",
       "    <tr>\n",
       "      <th>4</th>\n",
       "      <td>20293.0</td>\n",
       "      <td>True</td>\n",
       "      <td>False</td>\n",
       "      <td>False</td>\n",
       "      <td>False</td>\n",
       "    </tr>\n",
       "  </tbody>\n",
       "</table>\n",
       "</div>"
      ],
      "text/plain": [
       "   playerId  Equipment_Raw  Equipment_Wraps  Equipment_Single-ply  \\\n",
       "0   19391.0           True            False                 False   \n",
       "1   15978.0          False             True                 False   \n",
       "2   27209.0           True            False                 False   \n",
       "3   27496.0           True            False                 False   \n",
       "4   20293.0           True            False                 False   \n",
       "\n",
       "   Equipment_Multi-ply  \n",
       "0                False  \n",
       "1                False  \n",
       "2                False  \n",
       "3                False  \n",
       "4                False  "
      ]
     },
     "execution_count": 8,
     "metadata": {},
     "output_type": "execute_result"
    }
   ],
   "source": [
    "#Anpassen der Spalte Equipment\n",
    "rawdata = pd.get_dummies(rawdata, columns=[\"Equipment\"])\n",
    "\n",
    "#Ausgabe\n",
    "rawdata[['playerId', 'Equipment_Raw', 'Equipment_Wraps', 'Equipment_Single-ply', 'Equipment_Multi-ply']].head()"
   ]
  },
  {
   "cell_type": "markdown",
   "metadata": {},
   "source": [
    "### Aufteilen in Trainingssets"
   ]
  },
  {
   "cell_type": "code",
   "execution_count": 9,
   "metadata": {},
   "outputs": [],
   "source": [
    "# Convert data frame into numpy array and then split array into train and test arrays\n",
    "train, test = train_test_split(rawdata.to_numpy(), shuffle=True)"
   ]
  },
  {
   "cell_type": "markdown",
   "metadata": {},
   "source": [
    "### Formatierung der Trainingssets"
   ]
  },
  {
   "cell_type": "code",
   "execution_count": 10,
   "metadata": {},
   "outputs": [
    {
     "data": {
      "text/plain": [
       "'\\n# Extract X and y\\ntrain_X, train_y = train[:, 1:], train[:, 0].reshape(-1, 1)\\ntest_X, test_y = test[:, 1:], test[:, 0].reshape(-1, 1)\\n\\n# Fit a scaler on the training set and distinguish between X and y fits for later inverse transformations\\nscaler_X = MinMaxScaler()\\nscaler_y = MinMaxScaler()\\ntrain_scaled_X = scaler_X.fit_transform(train_X)\\ntrain_scaled_y = scaler_y.fit_transform(train_y)\\n# Apply the same scalers with learned parameters from training set on test set\\ntest_scaled_X = scaler_X.transform(test_X)\\ntest_scaled_y = scaler_y.transform(test_y)\\n'"
      ]
     },
     "execution_count": 10,
     "metadata": {},
     "output_type": "execute_result"
    }
   ],
   "source": [
    "\"\"\"\n",
    "# Extract X and y\n",
    "train_X, train_y = train[:, 1:], train[:, 0].reshape(-1, 1)\n",
    "test_X, test_y = test[:, 1:], test[:, 0].reshape(-1, 1)\n",
    "\n",
    "# Fit a scaler on the training set and distinguish between X and y fits for later inverse transformations\n",
    "scaler_X = MinMaxScaler()\n",
    "scaler_y = MinMaxScaler()\n",
    "train_scaled_X = scaler_X.fit_transform(train_X)\n",
    "train_scaled_y = scaler_y.fit_transform(train_y)\n",
    "# Apply the same scalers with learned parameters from training set on test set\n",
    "test_scaled_X = scaler_X.transform(test_X)\n",
    "test_scaled_y = scaler_y.transform(test_y)\n",
    "\"\"\"\n",
    "\n",
    "#Furkan fragen"
   ]
  }
 ],
 "metadata": {
  "kernelspec": {
   "display_name": "AI",
   "language": "python",
   "name": "python3"
  },
  "language_info": {
   "codemirror_mode": {
    "name": "ipython",
    "version": 3
   },
   "file_extension": ".py",
   "mimetype": "text/x-python",
   "name": "python",
   "nbconvert_exporter": "python",
   "pygments_lexer": "ipython3",
   "version": "3.10.13"
  }
 },
 "nbformat": 4,
 "nbformat_minor": 2
}
